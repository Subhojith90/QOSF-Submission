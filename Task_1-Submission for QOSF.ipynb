{
 "cells": [
  {
   "cell_type": "markdown",
   "id": "04539557",
   "metadata": {},
   "source": [
    "Submission for Subhojit Halder"
   ]
  },
  {
   "cell_type": "markdown",
   "id": "df69931a",
   "metadata": {},
   "source": [
    "# TASK 1"
   ]
  },
  {
   "cell_type": "markdown",
   "id": "5254cfe9",
   "metadata": {},
   "source": [
    "## Quantum Computing Algorithm"
   ]
  },
  {
   "cell_type": "markdown",
   "id": "366b738e",
   "metadata": {},
   "source": [
    "This Python code helps find smaller numbers than the integer 'k' in the array 'list_n.' Firstly, all the values that we use are classical bit values. In this code, we first convert the classical bits into binary bits using the function **'convert_to_binary_with_padding()'**. This function converts all the numbers to binary values with the same length by applying padding to the bits.\n",
    "The critical thing to note is that storing the values in the quantum circuit takes little endian encoding scheme. However, while reading it, the quantum circuit reads the values in a big-endian encoding scheme, so to manage this, the command **'flip_strings_in_array()'** is used to take care of the encoding scheme.\n",
    "\n",
    "**\"binary_converted\"** contains the actual array of encoded values in this encoded values\n",
    "\n",
    "Now, coming to the actual coding part. A quantum comparator is used where a register stores the input value **'k'** and the function **' IntegerComparator(num_state_qubits=len(binary_converted[0]), value=k, geq=True)'** is used. In this -\n",
    "**'num_state_qubits'** = is the number of qubits that will hold the integer and will return a comparator of size twice this value\n",
    "**'value'** = the registered stored value from which the comparison is made; hence **'k'**\n",
    "**'geq'** = If set to true it will return **\"1\" if the to be compared value is >= k** and will return **\"0\" if the to be compared value is < k**\n",
    "So, using this, a comparator is created. A comparator does one operation at a time, so it can only compare 1 unit with the value \"k.\"\n",
    "\n",
    "The measurement bit **creg = 1** is used so that the output is either 0 or 1.\n",
    "\n",
    "A for loop is created where it takes the individual element of the encoded array binary_converted and creates Pauli x gates if the bitplace is \"1,\" and then a comparator is added. The values are measured at the last bit where the gate exists, so if the last bit is at q[3], it will measure the output at q[4]. Then, a barrier is added for uniformity, and all the bits using the measurement bit are set to 0 again using the **\".reset()\"** function so that the previous results do not affect the calculations of the following bits.\n",
    "\n",
    "The final count values are stored into **\"counts_aray\"** as 0 or 1 following the above conditions.\n",
    "The final outputs are stored in **\"fin_output\"** by retrieving the indices for which counts_aray is **0**.\n",
    "\n",
    "**\"fin_output\"** is the return statement used for the function **\"less_than_k()\"**.\n",
    "\n",
    "4 Corresponding Outputs **\"A,\" \"B,\" \"C,\" and \"D\"** are Shown to prove the validity of the code and whether it is working or not."
   ]
  },
  {
   "cell_type": "code",
   "execution_count": 1,
   "id": "11659056",
   "metadata": {},
   "outputs": [],
   "source": [
    "from qiskit import QuantumRegister, ClassicalRegister\n",
    "from qiskit import QuantumCircuit, execute\n",
    "from qiskit.circuit.library import IntegerComparator\n",
    "from qiskit import Aer\n",
    "\n",
    "def convert_to_binary_with_padding(arr):\n",
    "    max_num = max(arr)\n",
    "    max_length = len(bin(max_num)) - 2\n",
    "    binary_arr = []\n",
    "    for num in arr:\n",
    "        binary_num = bin(num)[2:]\n",
    "        padded_binary_num = binary_num.zfill(max_length)\n",
    "        binary_arr.append(padded_binary_num)\n",
    "    return binary_arr\n",
    "\n",
    "def flip_strings_in_array(string_array):\n",
    "    flipped_array = [string[::-1] for string in string_array]\n",
    "    return flipped_array"
   ]
  },
  {
   "cell_type": "code",
   "execution_count": 2,
   "id": "f319ca40",
   "metadata": {},
   "outputs": [],
   "source": [
    "def  less_than_k(k , list_n):\n",
    "    backend = Aer.get_backend('aer_simulator')\n",
    "    \n",
    "    binary_converted = flip_strings_in_array(convert_to_binary_with_padding(list_n)) #convert_to_binary_with_padding(list_n) \n",
    "    counts_aray = []\n",
    "    fin_output = []\n",
    "    \n",
    "    q1 = QuantumRegister(2*len(binary_converted[0]),'q')\n",
    "    c1 = ClassicalRegister(1,'c')\n",
    "    circuit1 = QuantumCircuit(q1,c1)\n",
    "    \n",
    "    for i in range(len(binary_converted)):\n",
    "        comparator_i = IntegerComparator(num_state_qubits=len(binary_converted[0]), value=k, geq=True)\n",
    "        for j in range(len(binary_converted[i])):\n",
    "            if binary_converted[i][j] == '1':\n",
    "                circuit1.x(q1[j])\n",
    "        circuit1.compose(comparator_i, inplace=True)\n",
    "        circuit1.measure(q1[len(binary_converted[0])], c1[0])\n",
    "        job = execute(circuit1, backend, shots=1)\n",
    "        counts = job.result().get_counts()\n",
    "        counts_aray.append(int(str(counts)[2]))\n",
    "        circuit1.barrier(q1)\n",
    "        for j in range(len(binary_converted[0])+1):\n",
    "            circuit1.reset(q1[j])\n",
    "        \n",
    "    print(circuit1)\n",
    "    for i in range(len(counts_aray)):\n",
    "        if counts_aray[i] == 0:\n",
    "            fin_output.append(list_n[i])\n",
    "    \n",
    "    return fin_output"
   ]
  },
  {
   "cell_type": "code",
   "execution_count": 3,
   "id": "d77e9a07",
   "metadata": {
    "scrolled": false
   },
   "outputs": [
    {
     "name": "stdout",
     "output_type": "stream",
     "text": [
      "          ┌──────┐    ░      ┌───┐┌──────┐    ░      ┌───┐┌──────┐    ░      »\n",
      "q_0: ─────┤0     ├────░──|0>─┤ X ├┤0     ├────░──|0>─┤ X ├┤0     ├────░──|0>─»\n",
      "          │      │    ░      └───┘│      │    ░      ├───┤│      │    ░      »\n",
      "q_1: ─────┤1     ├────░──|0>──────┤1     ├────░──|0>─┤ X ├┤1     ├────░──|0>─»\n",
      "     ┌───┐│      │    ░           │      │    ░      └───┘│      │    ░      »\n",
      "q_2: ┤ X ├┤2     ├────░──|0>──────┤2     ├────░──|0>──────┤2     ├────░──|0>─»\n",
      "     └───┘│      │    ░      ┌───┐│      │    ░      ┌───┐│      │    ░      »\n",
      "q_3: ─────┤3     ├────░──|0>─┤ X ├┤3     ├────░──|0>─┤ X ├┤3     ├────░──|0>─»\n",
      "          │  cmp │┌─┐ ░      └───┘│  cmp │┌─┐ ░      └───┘│  cmp │┌─┐ ░      »\n",
      "q_4: ─────┤4     ├┤M├─░──|0>──────┤4     ├┤M├─░──|0>──────┤4     ├┤M├─░──|0>─»\n",
      "          │      │└╥┘ ░           │      │└╥┘ ░           │      │└╥┘ ░      »\n",
      "q_5: ─────┤5     ├─╫──░───────────┤5     ├─╫──░───────────┤5     ├─╫──░──────»\n",
      "          │      │ ║  ░           │      │ ║  ░           │      │ ║  ░      »\n",
      "q_6: ─────┤6     ├─╫──░───────────┤6     ├─╫──░───────────┤6     ├─╫──░──────»\n",
      "          │      │ ║  ░           │      │ ║  ░           │      │ ║  ░      »\n",
      "q_7: ─────┤7     ├─╫──░───────────┤7     ├─╫──░───────────┤7     ├─╫──░──────»\n",
      "          └──────┘ ║  ░           └──────┘ ║  ░           └──────┘ ║  ░      »\n",
      "c: 1/══════════════╩═══════════════════════╩═══════════════════════╩═════════»\n",
      "                   0                       0                       0         »\n",
      "«          ┌──────┐    ░      ┌───┐┌──────┐    ░      ┌───┐┌──────┐    ░      »\n",
      "«q_0: ─────┤0     ├────░──|0>─┤ X ├┤0     ├────░──|0>─┤ X ├┤0     ├────░──|0>─»\n",
      "«     ┌───┐│      │    ░      └───┘│      │    ░      └───┘│      │    ░      »\n",
      "«q_1: ┤ X ├┤1     ├────░──|0>──────┤1     ├────░──|0>──────┤1     ├────░──|0>─»\n",
      "«     ├───┤│      │    ░           │      │    ░      ┌───┐│      │    ░      »\n",
      "«q_2: ┤ X ├┤2     ├────░──|0>──────┤2     ├────░──|0>─┤ X ├┤2     ├────░──|0>─»\n",
      "«     ├───┤│      │    ░           │      │    ░      ├───┤│      │    ░      »\n",
      "«q_3: ┤ X ├┤3     ├────░──|0>──────┤3     ├────░──|0>─┤ X ├┤3     ├────░──|0>─»\n",
      "«     └───┘│  cmp │┌─┐ ░           │  cmp │┌─┐ ░      └───┘│  cmp │┌─┐ ░      »\n",
      "«q_4: ─────┤4     ├┤M├─░──|0>──────┤4     ├┤M├─░──|0>──────┤4     ├┤M├─░──|0>─»\n",
      "«          │      │└╥┘ ░           │      │└╥┘ ░           │      │└╥┘ ░      »\n",
      "«q_5: ─────┤5     ├─╫──░───────────┤5     ├─╫──░───────────┤5     ├─╫──░──────»\n",
      "«          │      │ ║  ░           │      │ ║  ░           │      │ ║  ░      »\n",
      "«q_6: ─────┤6     ├─╫──░───────────┤6     ├─╫──░───────────┤6     ├─╫──░──────»\n",
      "«          │      │ ║  ░           │      │ ║  ░           │      │ ║  ░      »\n",
      "«q_7: ─────┤7     ├─╫──░───────────┤7     ├─╫──░───────────┤7     ├─╫──░──────»\n",
      "«          └──────┘ ║  ░           └──────┘ ║  ░           └──────┘ ║  ░      »\n",
      "«c: 1/══════════════╩═══════════════════════╩═══════════════════════╩═════════»\n",
      "«                   0                       0                       0         »\n",
      "«          ┌──────┐    ░      ┌───┐┌──────┐    ░      \n",
      "«q_0: ─────┤0     ├────░──|0>─┤ X ├┤0     ├────░──|0>─\n",
      "«     ┌───┐│      │    ░      ├───┤│      │    ░      \n",
      "«q_1: ┤ X ├┤1     ├────░──|0>─┤ X ├┤1     ├────░──|0>─\n",
      "«     ├───┤│      │    ░      ├───┤│      │    ░      \n",
      "«q_2: ┤ X ├┤2     ├────░──|0>─┤ X ├┤2     ├────░──|0>─\n",
      "«     └───┘│      │    ░      ├───┤│      │    ░      \n",
      "«q_3: ─────┤3     ├────░──|0>─┤ X ├┤3     ├────░──|0>─\n",
      "«          │  cmp │┌─┐ ░      └───┘│  cmp │┌─┐ ░      \n",
      "«q_4: ─────┤4     ├┤M├─░──|0>──────┤4     ├┤M├─░──|0>─\n",
      "«          │      │└╥┘ ░           │      │└╥┘ ░      \n",
      "«q_5: ─────┤5     ├─╫──░───────────┤5     ├─╫──░──────\n",
      "«          │      │ ║  ░           │      │ ║  ░      \n",
      "«q_6: ─────┤6     ├─╫──░───────────┤6     ├─╫──░──────\n",
      "«          │      │ ║  ░           │      │ ║  ░      \n",
      "«q_7: ─────┤7     ├─╫──░───────────┤7     ├─╫──░──────\n",
      "«          └──────┘ ║  ░           └──────┘ ║  ░      \n",
      "«c: 1/══════════════╩═══════════════════════╩═════════\n",
      "«                   0                       0         \n",
      "[4, 1, 6]\n"
     ]
    }
   ],
   "source": [
    "A = less_than_k(7,[4,9,11,14,1,13,6,15])\n",
    "print(A)"
   ]
  },
  {
   "cell_type": "code",
   "execution_count": 4,
   "id": "0d0aefcd",
   "metadata": {},
   "outputs": [
    {
     "name": "stdout",
     "output_type": "stream",
     "text": [
      "     ┌───┐┌──────┐    ░           ┌──────┐    ░           ┌──────┐    ░      »\n",
      "q_0: ┤ X ├┤0     ├────░──|0>──────┤0     ├────░──|0>──────┤0     ├────░──|0>─»\n",
      "     └───┘│      │    ░      ┌───┐│      │    ░      ┌───┐│      │    ░      »\n",
      "q_1: ─────┤1     ├────░──|0>─┤ X ├┤1     ├────░──|0>─┤ X ├┤1     ├────░──|0>─»\n",
      "          │      │    ░      └───┘│      │    ░      └───┘│      │    ░      »\n",
      "q_2: ─────┤2     ├────░──|0>──────┤2     ├────░──|0>──────┤2     ├────░──|0>─»\n",
      "          │      │    ░           │      │    ░      ┌───┐│      │    ░      »\n",
      "q_3: ─────┤3     ├────░──|0>──────┤3     ├────░──|0>─┤ X ├┤3     ├────░──|0>─»\n",
      "          │  cmp │┌─┐ ░           │  cmp │┌─┐ ░      └───┘│  cmp │┌─┐ ░      »\n",
      "q_4: ─────┤4     ├┤M├─░──|0>──────┤4     ├┤M├─░──|0>──────┤4     ├┤M├─░──|0>─»\n",
      "          │      │└╥┘ ░           │      │└╥┘ ░           │      │└╥┘ ░      »\n",
      "q_5: ─────┤5     ├─╫──░───────────┤5     ├─╫──░───────────┤5     ├─╫──░──────»\n",
      "          │      │ ║  ░           │      │ ║  ░           │      │ ║  ░      »\n",
      "q_6: ─────┤6     ├─╫──░───────────┤6     ├─╫──░───────────┤6     ├─╫──░──────»\n",
      "          │      │ ║  ░           │      │ ║  ░           │      │ ║  ░      »\n",
      "q_7: ─────┤7     ├─╫──░───────────┤7     ├─╫──░───────────┤7     ├─╫──░──────»\n",
      "          └──────┘ ║  ░           └──────┘ ║  ░           └──────┘ ║  ░      »\n",
      "c: 1/══════════════╩═══════════════════════╩═══════════════════════╩═════════»\n",
      "                   0                       0                       0         »\n",
      "«     ┌──────┐    ░           ┌──────┐    ░      \n",
      "«q_0: ┤0     ├────░──|0>──────┤0     ├────░──|0>─\n",
      "«     │      │    ░           │      │    ░      \n",
      "«q_1: ┤1     ├────░──|0>──────┤1     ├────░──|0>─\n",
      "«     │      │    ░      ┌───┐│      │    ░      \n",
      "«q_2: ┤2     ├────░──|0>─┤ X ├┤2     ├────░──|0>─\n",
      "«     │      │    ░      └───┘│      │    ░      \n",
      "«q_3: ┤3     ├────░──|0>──────┤3     ├────░──|0>─\n",
      "«     │  cmp │┌─┐ ░           │  cmp │┌─┐ ░      \n",
      "«q_4: ┤4     ├┤M├─░──|0>──────┤4     ├┤M├─░──|0>─\n",
      "«     │      │└╥┘ ░           │      │└╥┘ ░      \n",
      "«q_5: ┤5     ├─╫──░───────────┤5     ├─╫──░──────\n",
      "«     │      │ ║  ░           │      │ ║  ░      \n",
      "«q_6: ┤6     ├─╫──░───────────┤6     ├─╫──░──────\n",
      "«     │      │ ║  ░           │      │ ║  ░      \n",
      "«q_7: ┤7     ├─╫──░───────────┤7     ├─╫──░──────\n",
      "«     └──────┘ ║  ░           └──────┘ ║  ░      \n",
      "«c: 1/═════════╩═══════════════════════╩═════════\n",
      "«              0                       0         \n",
      "[1, 2, 0]\n"
     ]
    }
   ],
   "source": [
    "B = less_than_k(4,[1,2,10,0,4])\n",
    "print(B)"
   ]
  },
  {
   "cell_type": "code",
   "execution_count": 5,
   "id": "a9a68da5",
   "metadata": {},
   "outputs": [
    {
     "name": "stdout",
     "output_type": "stream",
     "text": [
      "          ┌──────┐    ░           ┌──────┐    ░      ┌───┐┌──────┐    ░      \n",
      "q_0: ─────┤0     ├────░──|0>──────┤0     ├────░──|0>─┤ X ├┤0     ├────░──|0>─\n",
      "          │      │    ░           │      │    ░      ├───┤│      │    ░      \n",
      "q_1: ─────┤1     ├────░──|0>──────┤1     ├────░──|0>─┤ X ├┤1     ├────░──|0>─\n",
      "          │      │    ░      ┌───┐│      │    ░      └───┘│      │    ░      \n",
      "q_2: ─────┤2     ├────░──|0>─┤ X ├┤2     ├────░──|0>──────┤2     ├────░──|0>─\n",
      "          │      │    ░      ├───┤│      │    ░      ┌───┐│      │    ░      \n",
      "q_3: ─────┤3     ├────░──|0>─┤ X ├┤3     ├────░──|0>─┤ X ├┤3     ├────░──|0>─\n",
      "     ┌───┐│      │    ░      └───┘│      │    ░      └───┘│      │    ░      \n",
      "q_4: ┤ X ├┤4     ├────░──|0>──────┤4     ├────░──|0>──────┤4     ├────░──|0>─\n",
      "     └───┘│  cmp │┌─┐ ░           │  cmp │┌─┐ ░           │  cmp │┌─┐ ░      \n",
      "q_5: ─────┤5     ├┤M├─░──|0>──────┤5     ├┤M├─░──|0>──────┤5     ├┤M├─░──|0>─\n",
      "          │      │└╥┘ ░           │      │└╥┘ ░           │      │└╥┘ ░      \n",
      "q_6: ─────┤6     ├─╫──░───────────┤6     ├─╫──░───────────┤6     ├─╫──░──────\n",
      "          │      │ ║  ░           │      │ ║  ░           │      │ ║  ░      \n",
      "q_7: ─────┤7     ├─╫──░───────────┤7     ├─╫──░───────────┤7     ├─╫──░──────\n",
      "          │      │ ║  ░           │      │ ║  ░           │      │ ║  ░      \n",
      "q_8: ─────┤8     ├─╫──░───────────┤8     ├─╫──░───────────┤8     ├─╫──░──────\n",
      "          │      │ ║  ░           │      │ ║  ░           │      │ ║  ░      \n",
      "q_9: ─────┤9     ├─╫──░───────────┤9     ├─╫──░───────────┤9     ├─╫──░──────\n",
      "          └──────┘ ║  ░           └──────┘ ║  ░           └──────┘ ║  ░      \n",
      "c: 1/══════════════╩═══════════════════════╩═══════════════════════╩═════════\n",
      "                   0                       0                       0         \n",
      "[]\n"
     ]
    }
   ],
   "source": [
    "C = less_than_k(10,[16,12,11])\n",
    "print(C)"
   ]
  },
  {
   "cell_type": "code",
   "execution_count": 6,
   "id": "595df637",
   "metadata": {},
   "outputs": [
    {
     "name": "stdout",
     "output_type": "stream",
     "text": [
      "          ┌──────┐    ░      ┌───┐┌──────┐    ░           ┌──────┐    ░      »\n",
      "q_0: ─────┤0     ├────░──|0>─┤ X ├┤0     ├────░──|0>──────┤0     ├────░──|0>─»\n",
      "          │      │    ░      └───┘│      │    ░           │      │    ░      »\n",
      "q_1: ─────┤1     ├────░──|0>──────┤1     ├────░──|0>──────┤1     ├────░──|0>─»\n",
      "     ┌───┐│      │    ░           │      │    ░           │      │    ░      »\n",
      "q_2: ┤ X ├┤2     ├────░──|0>──────┤2     ├────░──|0>──────┤2     ├────░──|0>─»\n",
      "     └───┘│      │    ░      ┌───┐│      │    ░      ┌───┐│      │    ░      »\n",
      "q_3: ─────┤3     ├────░──|0>─┤ X ├┤3     ├────░──|0>─┤ X ├┤3     ├────░──|0>─»\n",
      "          │  cmp │┌─┐ ░      └───┘│  cmp │┌─┐ ░      └───┘│  cmp │┌─┐ ░      »\n",
      "q_4: ─────┤4     ├┤M├─░──|0>──────┤4     ├┤M├─░──|0>──────┤4     ├┤M├─░──|0>─»\n",
      "          │      │└╥┘ ░           │      │└╥┘ ░           │      │└╥┘ ░      »\n",
      "q_5: ─────┤5     ├─╫──░───────────┤5     ├─╫──░───────────┤5     ├─╫──░──────»\n",
      "          │      │ ║  ░           │      │ ║  ░           │      │ ║  ░      »\n",
      "q_6: ─────┤6     ├─╫──░───────────┤6     ├─╫──░───────────┤6     ├─╫──░──────»\n",
      "          │      │ ║  ░           │      │ ║  ░           │      │ ║  ░      »\n",
      "q_7: ─────┤7     ├─╫──░───────────┤7     ├─╫──░───────────┤7     ├─╫──░──────»\n",
      "          └──────┘ ║  ░           └──────┘ ║  ░           └──────┘ ║  ░      »\n",
      "c: 1/══════════════╩═══════════════════════╩═══════════════════════╩═════════»\n",
      "                   0                       0                       0         »\n",
      "«          ┌──────┐    ░      \n",
      "«q_0: ─────┤0     ├────░──|0>─\n",
      "«     ┌───┐│      │    ░      \n",
      "«q_1: ┤ X ├┤1     ├────░──|0>─\n",
      "«     ├───┤│      │    ░      \n",
      "«q_2: ┤ X ├┤2     ├────░──|0>─\n",
      "«     └───┘│      │    ░      \n",
      "«q_3: ─────┤3     ├────░──|0>─\n",
      "«          │  cmp │┌─┐ ░      \n",
      "«q_4: ─────┤4     ├┤M├─░──|0>─\n",
      "«          │      │└╥┘ ░      \n",
      "«q_5: ─────┤5     ├─╫──░──────\n",
      "«          │      │ ║  ░      \n",
      "«q_6: ─────┤6     ├─╫──░──────\n",
      "«          │      │ ║  ░      \n",
      "«q_7: ─────┤7     ├─╫──░──────\n",
      "«          └──────┘ ║  ░      \n",
      "«c: 1/══════════════╩═════════\n",
      "«                   0         \n",
      "[4, 9, 8, 6]\n"
     ]
    }
   ],
   "source": [
    "D = less_than_k(10,[4,9,8,6])\n",
    "print(D)"
   ]
  }
 ],
 "metadata": {
  "kernelspec": {
   "display_name": "Python 3 (ipykernel)",
   "language": "python",
   "name": "python3"
  },
  "language_info": {
   "codemirror_mode": {
    "name": "ipython",
    "version": 3
   },
   "file_extension": ".py",
   "mimetype": "text/x-python",
   "name": "python",
   "nbconvert_exporter": "python",
   "pygments_lexer": "ipython3",
   "version": "3.9.13"
  }
 },
 "nbformat": 4,
 "nbformat_minor": 5
}
